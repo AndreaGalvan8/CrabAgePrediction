{
 "cells": [
  {
   "cell_type": "markdown",
   "id": "cdfabdd8-0f04-4e9e-b9c5-61a941cbd5b8",
   "metadata": {},
   "source": [
    "# Crab Age Prediction using Only data available from live crabs"
   ]
  },
  {
   "cell_type": "markdown",
   "id": "d869da9f-915e-4668-8f73-8d4dc262b349",
   "metadata": {},
   "source": [
    "### Group members: Andrea Galvan, Brandt Sandman, Nicholas Jurczyk"
   ]
  },
  {
   "cell_type": "markdown",
   "id": "f603e25c-884e-472c-8b22-ec83eb0965c7",
   "metadata": {},
   "source": [
    "#### The data being used is downloaded from Kaggle.\n",
    "##### https://www.kaggle.com/datasets/sidhus/crab-age-prediction/data"
   ]
  },
  {
   "cell_type": "markdown",
   "id": "37a4c0fb-f898-4dfb-97e5-564649371072",
   "metadata": {},
   "source": [
    "### Import Packages"
   ]
  },
  {
   "cell_type": "code",
   "execution_count": 4,
   "id": "ce32b65c-d7fb-4be7-8ebe-52eeb91578a5",
   "metadata": {},
   "outputs": [],
   "source": [
    "import numpy as np\n",
    "import pandas as pd\n",
    "import matplotlib.pyplot as plt\n",
    "from sklearn.linear_model import LinearRegression\n",
    "import xgboost as xgb\n",
    "from xgboost import XGBRegressor\n",
    "from sklearn.preprocessing import StandardScaler\n",
    "from sklearn.model_selection import train_test_split\n",
    "from sklearn import metrics\n",
    "import seaborn as sns\n",
    "from sklearn.neighbors import KNeighborsClassifier\n",
    "from sklearn.metrics import accuracy_score, confusion_matrix\n",
    "sns.set()"
   ]
  },
  {
   "cell_type": "markdown",
   "id": "e5cfdf53-a9ea-4880-8adb-72a896ce8136",
   "metadata": {},
   "source": [
    "### Load and Inspect Data Set"
   ]
  },
  {
   "cell_type": "code",
   "execution_count": 6,
   "id": "8e036523-7e12-4061-95ba-38a8af5a82bb",
   "metadata": {},
   "outputs": [
    {
     "data": {
      "text/html": [
       "<div>\n",
       "<style scoped>\n",
       "    .dataframe tbody tr th:only-of-type {\n",
       "        vertical-align: middle;\n",
       "    }\n",
       "\n",
       "    .dataframe tbody tr th {\n",
       "        vertical-align: top;\n",
       "    }\n",
       "\n",
       "    .dataframe thead th {\n",
       "        text-align: right;\n",
       "    }\n",
       "</style>\n",
       "<table border=\"1\" class=\"dataframe\">\n",
       "  <thead>\n",
       "    <tr style=\"text-align: right;\">\n",
       "      <th></th>\n",
       "      <th>Sex</th>\n",
       "      <th>Length</th>\n",
       "      <th>Diameter</th>\n",
       "      <th>Height</th>\n",
       "      <th>Weight</th>\n",
       "      <th>Shucked Weight</th>\n",
       "      <th>Viscera Weight</th>\n",
       "      <th>Shell Weight</th>\n",
       "      <th>Age</th>\n",
       "    </tr>\n",
       "  </thead>\n",
       "  <tbody>\n",
       "    <tr>\n",
       "      <th>0</th>\n",
       "      <td>F</td>\n",
       "      <td>1.4375</td>\n",
       "      <td>1.1750</td>\n",
       "      <td>0.4125</td>\n",
       "      <td>24.635715</td>\n",
       "      <td>12.332033</td>\n",
       "      <td>5.584852</td>\n",
       "      <td>6.747181</td>\n",
       "      <td>9</td>\n",
       "    </tr>\n",
       "    <tr>\n",
       "      <th>1</th>\n",
       "      <td>M</td>\n",
       "      <td>0.8875</td>\n",
       "      <td>0.6500</td>\n",
       "      <td>0.2125</td>\n",
       "      <td>5.400580</td>\n",
       "      <td>2.296310</td>\n",
       "      <td>1.374951</td>\n",
       "      <td>1.559222</td>\n",
       "      <td>6</td>\n",
       "    </tr>\n",
       "    <tr>\n",
       "      <th>2</th>\n",
       "      <td>I</td>\n",
       "      <td>1.0375</td>\n",
       "      <td>0.7750</td>\n",
       "      <td>0.2500</td>\n",
       "      <td>7.952035</td>\n",
       "      <td>3.231843</td>\n",
       "      <td>1.601747</td>\n",
       "      <td>2.764076</td>\n",
       "      <td>6</td>\n",
       "    </tr>\n",
       "    <tr>\n",
       "      <th>3</th>\n",
       "      <td>F</td>\n",
       "      <td>1.1750</td>\n",
       "      <td>0.8875</td>\n",
       "      <td>0.2500</td>\n",
       "      <td>13.480187</td>\n",
       "      <td>4.748541</td>\n",
       "      <td>2.282135</td>\n",
       "      <td>5.244657</td>\n",
       "      <td>10</td>\n",
       "    </tr>\n",
       "    <tr>\n",
       "      <th>4</th>\n",
       "      <td>I</td>\n",
       "      <td>0.8875</td>\n",
       "      <td>0.6625</td>\n",
       "      <td>0.2125</td>\n",
       "      <td>6.903103</td>\n",
       "      <td>3.458639</td>\n",
       "      <td>1.488349</td>\n",
       "      <td>1.700970</td>\n",
       "      <td>6</td>\n",
       "    </tr>\n",
       "  </tbody>\n",
       "</table>\n",
       "</div>"
      ],
      "text/plain": [
       "  Sex  Length  Diameter  Height     Weight  Shucked Weight  Viscera Weight  \\\n",
       "0   F  1.4375    1.1750  0.4125  24.635715       12.332033        5.584852   \n",
       "1   M  0.8875    0.6500  0.2125   5.400580        2.296310        1.374951   \n",
       "2   I  1.0375    0.7750  0.2500   7.952035        3.231843        1.601747   \n",
       "3   F  1.1750    0.8875  0.2500  13.480187        4.748541        2.282135   \n",
       "4   I  0.8875    0.6625  0.2125   6.903103        3.458639        1.488349   \n",
       "\n",
       "   Shell Weight  Age  \n",
       "0      6.747181    9  \n",
       "1      1.559222    6  \n",
       "2      2.764076    6  \n",
       "3      5.244657   10  \n",
       "4      1.700970    6  "
      ]
     },
     "execution_count": 6,
     "metadata": {},
     "output_type": "execute_result"
    }
   ],
   "source": [
    "# Fetch the file\n",
    "original_data = pd.read_csv('CrabAgePrediction.csv') # Local, use full path if notebook and file in different folders! \n",
    "\n",
    "#Display What attributes we are working with in the Data\n",
    "original_data.head()"
   ]
  },
  {
   "cell_type": "markdown",
   "id": "4fb33cc8-a6ce-4847-9272-bd145f6d8a5c",
   "metadata": {},
   "source": [
    "## As we cannot measure the Viscera (organ) weight, shell weight, nor shucked weight without killing the crab, we will remove these from the dataset"
   ]
  },
  {
   "cell_type": "code",
   "execution_count": 8,
   "id": "323241aa-08c7-403d-8774-f254ef28027c",
   "metadata": {},
   "outputs": [
    {
     "data": {
      "text/html": [
       "<div>\n",
       "<style scoped>\n",
       "    .dataframe tbody tr th:only-of-type {\n",
       "        vertical-align: middle;\n",
       "    }\n",
       "\n",
       "    .dataframe tbody tr th {\n",
       "        vertical-align: top;\n",
       "    }\n",
       "\n",
       "    .dataframe thead th {\n",
       "        text-align: right;\n",
       "    }\n",
       "</style>\n",
       "<table border=\"1\" class=\"dataframe\">\n",
       "  <thead>\n",
       "    <tr style=\"text-align: right;\">\n",
       "      <th></th>\n",
       "      <th>Sex</th>\n",
       "      <th>Length</th>\n",
       "      <th>Diameter</th>\n",
       "      <th>Height</th>\n",
       "      <th>Weight</th>\n",
       "      <th>Age</th>\n",
       "    </tr>\n",
       "  </thead>\n",
       "  <tbody>\n",
       "    <tr>\n",
       "      <th>0</th>\n",
       "      <td>F</td>\n",
       "      <td>1.4375</td>\n",
       "      <td>1.1750</td>\n",
       "      <td>0.4125</td>\n",
       "      <td>24.635715</td>\n",
       "      <td>9</td>\n",
       "    </tr>\n",
       "    <tr>\n",
       "      <th>1</th>\n",
       "      <td>M</td>\n",
       "      <td>0.8875</td>\n",
       "      <td>0.6500</td>\n",
       "      <td>0.2125</td>\n",
       "      <td>5.400580</td>\n",
       "      <td>6</td>\n",
       "    </tr>\n",
       "    <tr>\n",
       "      <th>2</th>\n",
       "      <td>I</td>\n",
       "      <td>1.0375</td>\n",
       "      <td>0.7750</td>\n",
       "      <td>0.2500</td>\n",
       "      <td>7.952035</td>\n",
       "      <td>6</td>\n",
       "    </tr>\n",
       "    <tr>\n",
       "      <th>3</th>\n",
       "      <td>F</td>\n",
       "      <td>1.1750</td>\n",
       "      <td>0.8875</td>\n",
       "      <td>0.2500</td>\n",
       "      <td>13.480187</td>\n",
       "      <td>10</td>\n",
       "    </tr>\n",
       "    <tr>\n",
       "      <th>4</th>\n",
       "      <td>I</td>\n",
       "      <td>0.8875</td>\n",
       "      <td>0.6625</td>\n",
       "      <td>0.2125</td>\n",
       "      <td>6.903103</td>\n",
       "      <td>6</td>\n",
       "    </tr>\n",
       "  </tbody>\n",
       "</table>\n",
       "</div>"
      ],
      "text/plain": [
       "  Sex  Length  Diameter  Height     Weight  Age\n",
       "0   F  1.4375    1.1750  0.4125  24.635715    9\n",
       "1   M  0.8875    0.6500  0.2125   5.400580    6\n",
       "2   I  1.0375    0.7750  0.2500   7.952035    6\n",
       "3   F  1.1750    0.8875  0.2500  13.480187   10\n",
       "4   I  0.8875    0.6625  0.2125   6.903103    6"
      ]
     },
     "execution_count": 8,
     "metadata": {},
     "output_type": "execute_result"
    }
   ],
   "source": [
    "original_data = original_data.drop([\"Shucked Weight\"], axis=1)\n",
    "original_data = original_data.drop([\"Viscera Weight\"], axis=1)\n",
    "original_data = original_data.drop([\"Shell Weight\"], axis=1)\n",
    "original_data.head()"
   ]
  },
  {
   "cell_type": "code",
   "execution_count": 165,
   "id": "6f17a6e7-b00a-403c-9ddc-c7c851c1a817",
   "metadata": {},
   "outputs": [
    {
     "data": {
      "text/html": [
       "<div>\n",
       "<style scoped>\n",
       "    .dataframe tbody tr th:only-of-type {\n",
       "        vertical-align: middle;\n",
       "    }\n",
       "\n",
       "    .dataframe tbody tr th {\n",
       "        vertical-align: top;\n",
       "    }\n",
       "\n",
       "    .dataframe thead th {\n",
       "        text-align: right;\n",
       "    }\n",
       "</style>\n",
       "<table border=\"1\" class=\"dataframe\">\n",
       "  <thead>\n",
       "    <tr style=\"text-align: right;\">\n",
       "      <th></th>\n",
       "      <th>Sex</th>\n",
       "      <th>Length</th>\n",
       "      <th>Diameter</th>\n",
       "      <th>Height</th>\n",
       "      <th>Weight</th>\n",
       "      <th>Age</th>\n",
       "    </tr>\n",
       "  </thead>\n",
       "  <tbody>\n",
       "    <tr>\n",
       "      <th>count</th>\n",
       "      <td>3893</td>\n",
       "      <td>3893.000000</td>\n",
       "      <td>3893.000000</td>\n",
       "      <td>3893.000000</td>\n",
       "      <td>3893.000000</td>\n",
       "      <td>3893.000000</td>\n",
       "    </tr>\n",
       "    <tr>\n",
       "      <th>unique</th>\n",
       "      <td>3</td>\n",
       "      <td>NaN</td>\n",
       "      <td>NaN</td>\n",
       "      <td>NaN</td>\n",
       "      <td>NaN</td>\n",
       "      <td>NaN</td>\n",
       "    </tr>\n",
       "    <tr>\n",
       "      <th>top</th>\n",
       "      <td>M</td>\n",
       "      <td>NaN</td>\n",
       "      <td>NaN</td>\n",
       "      <td>NaN</td>\n",
       "      <td>NaN</td>\n",
       "      <td>NaN</td>\n",
       "    </tr>\n",
       "    <tr>\n",
       "      <th>freq</th>\n",
       "      <td>1435</td>\n",
       "      <td>NaN</td>\n",
       "      <td>NaN</td>\n",
       "      <td>NaN</td>\n",
       "      <td>NaN</td>\n",
       "      <td>NaN</td>\n",
       "    </tr>\n",
       "    <tr>\n",
       "      <th>mean</th>\n",
       "      <td>NaN</td>\n",
       "      <td>1.311306</td>\n",
       "      <td>1.020893</td>\n",
       "      <td>0.349374</td>\n",
       "      <td>23.567275</td>\n",
       "      <td>9.954791</td>\n",
       "    </tr>\n",
       "    <tr>\n",
       "      <th>std</th>\n",
       "      <td>NaN</td>\n",
       "      <td>0.300431</td>\n",
       "      <td>0.248233</td>\n",
       "      <td>0.104976</td>\n",
       "      <td>13.891201</td>\n",
       "      <td>3.220967</td>\n",
       "    </tr>\n",
       "    <tr>\n",
       "      <th>min</th>\n",
       "      <td>NaN</td>\n",
       "      <td>0.187500</td>\n",
       "      <td>0.137500</td>\n",
       "      <td>0.000000</td>\n",
       "      <td>0.056699</td>\n",
       "      <td>1.000000</td>\n",
       "    </tr>\n",
       "    <tr>\n",
       "      <th>25%</th>\n",
       "      <td>NaN</td>\n",
       "      <td>1.125000</td>\n",
       "      <td>0.875000</td>\n",
       "      <td>0.287500</td>\n",
       "      <td>12.672227</td>\n",
       "      <td>8.000000</td>\n",
       "    </tr>\n",
       "    <tr>\n",
       "      <th>50%</th>\n",
       "      <td>NaN</td>\n",
       "      <td>1.362500</td>\n",
       "      <td>1.062500</td>\n",
       "      <td>0.362500</td>\n",
       "      <td>22.792998</td>\n",
       "      <td>10.000000</td>\n",
       "    </tr>\n",
       "    <tr>\n",
       "      <th>75%</th>\n",
       "      <td>NaN</td>\n",
       "      <td>1.537500</td>\n",
       "      <td>1.200000</td>\n",
       "      <td>0.412500</td>\n",
       "      <td>32.786197</td>\n",
       "      <td>11.000000</td>\n",
       "    </tr>\n",
       "    <tr>\n",
       "      <th>max</th>\n",
       "      <td>NaN</td>\n",
       "      <td>2.037500</td>\n",
       "      <td>1.625000</td>\n",
       "      <td>2.825000</td>\n",
       "      <td>80.101512</td>\n",
       "      <td>29.000000</td>\n",
       "    </tr>\n",
       "  </tbody>\n",
       "</table>\n",
       "</div>"
      ],
      "text/plain": [
       "         Sex       Length     Diameter       Height       Weight          Age\n",
       "count   3893  3893.000000  3893.000000  3893.000000  3893.000000  3893.000000\n",
       "unique     3          NaN          NaN          NaN          NaN          NaN\n",
       "top        M          NaN          NaN          NaN          NaN          NaN\n",
       "freq    1435          NaN          NaN          NaN          NaN          NaN\n",
       "mean     NaN     1.311306     1.020893     0.349374    23.567275     9.954791\n",
       "std      NaN     0.300431     0.248233     0.104976    13.891201     3.220967\n",
       "min      NaN     0.187500     0.137500     0.000000     0.056699     1.000000\n",
       "25%      NaN     1.125000     0.875000     0.287500    12.672227     8.000000\n",
       "50%      NaN     1.362500     1.062500     0.362500    22.792998    10.000000\n",
       "75%      NaN     1.537500     1.200000     0.412500    32.786197    11.000000\n",
       "max      NaN     2.037500     1.625000     2.825000    80.101512    29.000000"
      ]
     },
     "execution_count": 165,
     "metadata": {},
     "output_type": "execute_result"
    }
   ],
   "source": [
    "original_data.describe(include='all') # descriptive statistics for all columns"
   ]
  },
  {
   "cell_type": "code",
   "execution_count": 10,
   "id": "68633f73-c5ec-427d-ae6d-e39b858d3fe7",
   "metadata": {},
   "outputs": [
    {
     "data": {
      "text/plain": [
       "Sex         0\n",
       "Length      0\n",
       "Diameter    0\n",
       "Height      0\n",
       "Weight      0\n",
       "Age         0\n",
       "dtype: int64"
      ]
     },
     "execution_count": 10,
     "metadata": {},
     "output_type": "execute_result"
    }
   ],
   "source": [
    "original_data.isnull().sum() # check for null values"
   ]
  },
  {
   "cell_type": "code",
   "execution_count": 12,
   "id": "33ee4585-ccad-4c4b-9444-6567e6826db3",
   "metadata": {},
   "outputs": [
    {
     "data": {
      "text/html": [
       "<div>\n",
       "<style scoped>\n",
       "    .dataframe tbody tr th:only-of-type {\n",
       "        vertical-align: middle;\n",
       "    }\n",
       "\n",
       "    .dataframe tbody tr th {\n",
       "        vertical-align: top;\n",
       "    }\n",
       "\n",
       "    .dataframe thead th {\n",
       "        text-align: right;\n",
       "    }\n",
       "</style>\n",
       "<table border=\"1\" class=\"dataframe\">\n",
       "  <thead>\n",
       "    <tr style=\"text-align: right;\">\n",
       "      <th></th>\n",
       "      <th>Sex</th>\n",
       "      <th>Length</th>\n",
       "      <th>Diameter</th>\n",
       "      <th>Height</th>\n",
       "      <th>Weight</th>\n",
       "      <th>Age</th>\n",
       "    </tr>\n",
       "  </thead>\n",
       "  <tbody>\n",
       "  </tbody>\n",
       "</table>\n",
       "</div>"
      ],
      "text/plain": [
       "Empty DataFrame\n",
       "Columns: [Sex, Length, Diameter, Height, Weight, Age]\n",
       "Index: []"
      ]
     },
     "execution_count": 12,
     "metadata": {},
     "output_type": "execute_result"
    }
   ],
   "source": [
    "original_data[original_data.duplicated(keep=False)] # check for duplicate rows"
   ]
  },
  {
   "cell_type": "markdown",
   "id": "90607e1a-84ce-4bed-8e30-4bd8c6a42b8d",
   "metadata": {},
   "source": [
    "## Data Cleansing\n",
    "#### Currently, the Sex of the crab is stored as a string (F/M/I for Male/Female/Indeterminate). We want to turn the string into a number. We will convert the string as follows:\n",
    "\n",
    "##### F --> 0\n",
    "##### M --> 1\n",
    "##### I --> 2"
   ]
  },
  {
   "cell_type": "code",
   "execution_count": 14,
   "id": "3db33e01-2abd-4c86-ab6b-a4d4b7f778e1",
   "metadata": {},
   "outputs": [
    {
     "data": {
      "text/html": [
       "<div>\n",
       "<style scoped>\n",
       "    .dataframe tbody tr th:only-of-type {\n",
       "        vertical-align: middle;\n",
       "    }\n",
       "\n",
       "    .dataframe tbody tr th {\n",
       "        vertical-align: top;\n",
       "    }\n",
       "\n",
       "    .dataframe thead th {\n",
       "        text-align: right;\n",
       "    }\n",
       "</style>\n",
       "<table border=\"1\" class=\"dataframe\">\n",
       "  <thead>\n",
       "    <tr style=\"text-align: right;\">\n",
       "      <th></th>\n",
       "      <th>Sex</th>\n",
       "      <th>Length</th>\n",
       "      <th>Diameter</th>\n",
       "      <th>Height</th>\n",
       "      <th>Weight</th>\n",
       "      <th>Age</th>\n",
       "    </tr>\n",
       "  </thead>\n",
       "  <tbody>\n",
       "    <tr>\n",
       "      <th>0</th>\n",
       "      <td>0</td>\n",
       "      <td>1.4375</td>\n",
       "      <td>1.1750</td>\n",
       "      <td>0.4125</td>\n",
       "      <td>24.635715</td>\n",
       "      <td>9</td>\n",
       "    </tr>\n",
       "    <tr>\n",
       "      <th>1</th>\n",
       "      <td>1</td>\n",
       "      <td>0.8875</td>\n",
       "      <td>0.6500</td>\n",
       "      <td>0.2125</td>\n",
       "      <td>5.400580</td>\n",
       "      <td>6</td>\n",
       "    </tr>\n",
       "    <tr>\n",
       "      <th>2</th>\n",
       "      <td>2</td>\n",
       "      <td>1.0375</td>\n",
       "      <td>0.7750</td>\n",
       "      <td>0.2500</td>\n",
       "      <td>7.952035</td>\n",
       "      <td>6</td>\n",
       "    </tr>\n",
       "    <tr>\n",
       "      <th>3</th>\n",
       "      <td>0</td>\n",
       "      <td>1.1750</td>\n",
       "      <td>0.8875</td>\n",
       "      <td>0.2500</td>\n",
       "      <td>13.480187</td>\n",
       "      <td>10</td>\n",
       "    </tr>\n",
       "    <tr>\n",
       "      <th>4</th>\n",
       "      <td>2</td>\n",
       "      <td>0.8875</td>\n",
       "      <td>0.6625</td>\n",
       "      <td>0.2125</td>\n",
       "      <td>6.903103</td>\n",
       "      <td>6</td>\n",
       "    </tr>\n",
       "  </tbody>\n",
       "</table>\n",
       "</div>"
      ],
      "text/plain": [
       "   Sex  Length  Diameter  Height     Weight  Age\n",
       "0    0  1.4375    1.1750  0.4125  24.635715    9\n",
       "1    1  0.8875    0.6500  0.2125   5.400580    6\n",
       "2    2  1.0375    0.7750  0.2500   7.952035    6\n",
       "3    0  1.1750    0.8875  0.2500  13.480187   10\n",
       "4    2  0.8875    0.6625  0.2125   6.903103    6"
      ]
     },
     "execution_count": 14,
     "metadata": {},
     "output_type": "execute_result"
    }
   ],
   "source": [
    "#for the data, we need to turn the Label into a number so we can compare if we predicted the right thing.\n",
    "# Step 1: Create a mapping dictionary\n",
    "mapping = {\n",
    "    'F': 0,\n",
    "    'M': 1,\n",
    "    'I': 2\n",
    "}\n",
    "\n",
    "# Step 2: Apply the mapping to the specific column\n",
    "original_data['Sex'] = original_data['Sex'].map(mapping)\n",
    "\n",
    "original_data.head()"
   ]
  },
  {
   "cell_type": "markdown",
   "id": "19a8ae51-8c2d-40b6-a2a4-f5a1fb548dc7",
   "metadata": {},
   "source": [
    "### We also only care about if a crab is edible or not. We don't care about how old the crab is in months. As such, we will re-classify the data so that we only look at if the crab is old enough to eat or not.\n",
    "\n",
    "#### A crab is considered ready to eat starting at 12 months of age."
   ]
  },
  {
   "cell_type": "code",
   "execution_count": 16,
   "id": "40c201bc-5254-4642-a4e3-87c41fd56e0b",
   "metadata": {},
   "outputs": [
    {
     "data": {
      "text/html": [
       "<div>\n",
       "<style scoped>\n",
       "    .dataframe tbody tr th:only-of-type {\n",
       "        vertical-align: middle;\n",
       "    }\n",
       "\n",
       "    .dataframe tbody tr th {\n",
       "        vertical-align: top;\n",
       "    }\n",
       "\n",
       "    .dataframe thead th {\n",
       "        text-align: right;\n",
       "    }\n",
       "</style>\n",
       "<table border=\"1\" class=\"dataframe\">\n",
       "  <thead>\n",
       "    <tr style=\"text-align: right;\">\n",
       "      <th></th>\n",
       "      <th>Sex</th>\n",
       "      <th>Length</th>\n",
       "      <th>Diameter</th>\n",
       "      <th>Height</th>\n",
       "      <th>Weight</th>\n",
       "      <th>Age</th>\n",
       "    </tr>\n",
       "  </thead>\n",
       "  <tbody>\n",
       "    <tr>\n",
       "      <th>0</th>\n",
       "      <td>0</td>\n",
       "      <td>1.4375</td>\n",
       "      <td>1.1750</td>\n",
       "      <td>0.4125</td>\n",
       "      <td>24.635715</td>\n",
       "      <td>0</td>\n",
       "    </tr>\n",
       "    <tr>\n",
       "      <th>1</th>\n",
       "      <td>1</td>\n",
       "      <td>0.8875</td>\n",
       "      <td>0.6500</td>\n",
       "      <td>0.2125</td>\n",
       "      <td>5.400580</td>\n",
       "      <td>0</td>\n",
       "    </tr>\n",
       "    <tr>\n",
       "      <th>2</th>\n",
       "      <td>2</td>\n",
       "      <td>1.0375</td>\n",
       "      <td>0.7750</td>\n",
       "      <td>0.2500</td>\n",
       "      <td>7.952035</td>\n",
       "      <td>0</td>\n",
       "    </tr>\n",
       "    <tr>\n",
       "      <th>3</th>\n",
       "      <td>0</td>\n",
       "      <td>1.1750</td>\n",
       "      <td>0.8875</td>\n",
       "      <td>0.2500</td>\n",
       "      <td>13.480187</td>\n",
       "      <td>0</td>\n",
       "    </tr>\n",
       "    <tr>\n",
       "      <th>4</th>\n",
       "      <td>2</td>\n",
       "      <td>0.8875</td>\n",
       "      <td>0.6625</td>\n",
       "      <td>0.2125</td>\n",
       "      <td>6.903103</td>\n",
       "      <td>0</td>\n",
       "    </tr>\n",
       "  </tbody>\n",
       "</table>\n",
       "</div>"
      ],
      "text/plain": [
       "   Sex  Length  Diameter  Height     Weight  Age\n",
       "0    0  1.4375    1.1750  0.4125  24.635715    0\n",
       "1    1  0.8875    0.6500  0.2125   5.400580    0\n",
       "2    2  1.0375    0.7750  0.2500   7.952035    0\n",
       "3    0  1.1750    0.8875  0.2500  13.480187    0\n",
       "4    2  0.8875    0.6625  0.2125   6.903103    0"
      ]
     },
     "execution_count": 16,
     "metadata": {},
     "output_type": "execute_result"
    }
   ],
   "source": [
    "# Code source: ChatGPT\n",
    "# Remap the 'age' column where age > 12 becomes 1 and age <= 12 becomes 0\n",
    "original_data['Age'] = original_data['Age'].apply(lambda x: 1 if x > 11 else 0)\n",
    "\n",
    "original_data.head()"
   ]
  },
  {
   "cell_type": "markdown",
   "id": "8acf0fa8-5490-47c4-bc5a-e9a790ad0ae4",
   "metadata": {},
   "source": [
    "# Splitting the Data into Testing and Training Datasets"
   ]
  },
  {
   "cell_type": "code",
   "execution_count": 18,
   "id": "f296ec36-71b8-4caa-93f8-8e5b80f877a9",
   "metadata": {},
   "outputs": [],
   "source": [
    "target = original_data[\"Age\"]\n",
    "predictors = original_data.drop([\"Age\"], axis=1)"
   ]
  },
  {
   "cell_type": "code",
   "execution_count": 20,
   "id": "499bcc78-c8de-4778-8e00-c64578dfdb08",
   "metadata": {},
   "outputs": [],
   "source": [
    "X_train, X_test, y_train, y_test = train_test_split(\n",
    "    predictors, target, test_size=0.2, random_state=42\n",
    ")  # 80-20 split into training and test data"
   ]
  },
  {
   "cell_type": "markdown",
   "id": "90ee4b43-ab64-4370-bafb-8dedb81ea2ee",
   "metadata": {},
   "source": [
    "##### Check if the dataset is balanced."
   ]
  },
  {
   "cell_type": "code",
   "execution_count": 22,
   "id": "9412095b-d9ed-4bc3-bfee-df1a8fd488c0",
   "metadata": {},
   "outputs": [
    {
     "data": {
      "text/plain": [
       "Age\n",
       "0    2368\n",
       "1     746\n",
       "Name: count, dtype: int64"
      ]
     },
     "execution_count": 22,
     "metadata": {},
     "output_type": "execute_result"
    }
   ],
   "source": [
    "# Check data balancing\n",
    "y_train.value_counts()\n",
    "\n",
    "# There is no severe skew in the class distribution. No resampling needed.\n",
    "# If you want to learn more about resampling, also check https://machinelearningmastery.com/random-oversampling-and-undersampling-for-imbalanced-classification/"
   ]
  },
  {
   "cell_type": "markdown",
   "id": "5b78ac56-ef8f-4cba-8b59-150e7e4d8a29",
   "metadata": {},
   "source": [
    "## Predictor Selection"
   ]
  },
  {
   "cell_type": "code",
   "execution_count": 24,
   "id": "b00b2f31-5abe-47c7-b6a7-f632f691f2a0",
   "metadata": {},
   "outputs": [
    {
     "data": {
      "image/png": "[encoded data removed]",
      "text/plain": [
       "<Figure size 1800x1800 with 2 Axes>"
      ]
     },
     "metadata": {},
     "output_type": "display_data"
    }
   ],
   "source": [
    "#Create a Heat Map to better understand \n",
    "f,ax=plt.subplots(figsize = (18,18))\n",
    "sns.heatmap(original_data.corr(),annot= True,linewidths=0.5,fmt = \".1f\",ax=ax)\n",
    "plt.xticks(rotation=90)\n",
    "plt.yticks(rotation=0)\n",
    "plt.title('Correlation Map')\n",
    "plt.show()"
   ]
  },
  {
   "cell_type": "markdown",
   "id": "6d7da7ff-5e9f-46ce-957d-b3972b4f22fb",
   "metadata": {},
   "source": [
    "# Using K Nearest Neighbors to Predict Data - 78.56%"
   ]
  },
  {
   "cell_type": "code",
   "execution_count": 245,
   "id": "a0b6601f-6a2f-4413-a238-9c9d5a4a670c",
   "metadata": {},
   "outputs": [
    {
     "name": "stdout",
     "output_type": "stream",
     "text": [
      "Accuracy: 0.785622593068036\n",
      "Confusion Matrix:\n",
      "[[596  26]\n",
      " [141  16]]\n"
     ]
    }
   ],
   "source": [
    "# Code from ChatGPT\n",
    "\n",
    "# Step 1: Initialize the KNN model, specify number of neighbors (k)\n",
    "# Tests conducted between 1-15. 6 yielded the best results.\n",
    "k = 6 # You can experiment with different values of k\n",
    "knn = KNeighborsClassifier(n_neighbors=k)\n",
    "\n",
    "# Step 2: Train the KNN model on the training dataset\n",
    "knn.fit(X_train, y_train)\n",
    "\n",
    "# Step 3: Use the trained model to make predictions on the test dataset\n",
    "y_pred = knn.predict(X_test)\n",
    "\n",
    "# Step 4: Evaluate the model\n",
    "\n",
    "# Evaluate accuracy\n",
    "accuracy = accuracy_score(y_test, y_pred)\n",
    "print(f\"Accuracy: {accuracy}\")\n",
    "\n",
    "# Generate and display confusion matrix\n",
    "conf_matrix = confusion_matrix(y_test, y_pred)\n",
    "print(f\"Confusion Matrix:\\n{conf_matrix}\")"
   ]
  },
  {
   "cell_type": "markdown",
   "id": "bd7a455b-9cbc-4996-83df-919216a1ed83",
   "metadata": {},
   "source": [
    "# Using RBF SVM (Radialk Basis Function Support Vector Machine) to Predict Data - 79.08%"
   ]
  },
  {
   "cell_type": "code",
   "execution_count": 248,
   "id": "20f29a2e-cef4-4410-b8e7-e74a5765ac5d",
   "metadata": {},
   "outputs": [
    {
     "name": "stdout",
     "output_type": "stream",
     "text": [
      "Accuracy: 0.7907573812580231\n",
      "Confusion Matrix:\n",
      "[[613   9]\n",
      " [154   3]]\n"
     ]
    }
   ],
   "source": [
    "# Import necessary libraries\n",
    "from sklearn.svm import SVC\n",
    "from sklearn.metrics import accuracy_score, confusion_matrix\n",
    "\n",
    "# Step 1: Initialize the RBF SVM model\n",
    "rbf_svm = SVC(kernel='rbf')\n",
    "\n",
    "# Step 2: Train the RBF SVM model on the training data\n",
    "rbf_svm.fit(X_train, y_train)\n",
    "\n",
    "# Step 3: Make predictions using the trained model on the test data\n",
    "y_pred = rbf_svm.predict(X_test)\n",
    "\n",
    "# Step 4: Evaluate the model\n",
    "\n",
    "# Evaluate accuracy\n",
    "accuracy = accuracy_score(y_test, y_pred)\n",
    "print(f\"Accuracy: {accuracy}\")\n",
    "\n",
    "# Generate and display confusion matrix\n",
    "conf_matrix = confusion_matrix(y_test, y_pred)\n",
    "print(f\"Confusion Matrix:\\n{conf_matrix}\")"
   ]
  },
  {
   "cell_type": "markdown",
   "id": "a556dea9-3b1f-43b7-bcd0-8232188569fc",
   "metadata": {},
   "source": [
    "# Using XGBoost to Predict Data - 76.89%"
   ]
  },
  {
   "cell_type": "code",
   "execution_count": 260,
   "id": "e2a3f570-09a5-496b-850f-70d7cef2f0b6",
   "metadata": {},
   "outputs": [
    {
     "name": "stdout",
     "output_type": "stream",
     "text": [
      "Accuracy: 0.7689345314505777\n",
      "Confusion Matrix:\n",
      "[[553  69]\n",
      " [111  46]]\n"
     ]
    },
    {
     "name": "stderr",
     "output_type": "stream",
     "text": [
      "C:\\Users\\njurczyk\\AppData\\Roaming\\Python\\Python312\\site-packages\\xgboost\\core.py:158: UserWarning: [16:41:50] WARNING: C:\\buildkite-agent\\builds\\buildkite-windows-cpu-autoscaling-group-i-0015a694724fa8361-1\\xgboost\\xgboost-ci-windows\\src\\learner.cc:740: \n",
      "Parameters: { \"use_label_encoder\" } are not used.\n",
      "\n",
      "  warnings.warn(smsg, UserWarning)\n"
     ]
    }
   ],
   "source": [
    "# Step 1: Initialize the XGBoost model\n",
    "xgb_model = xgb.XGBClassifier(use_label_encoder=False, eval_metric='logloss')\n",
    "\n",
    "# Step 2: Train the model on the training data\n",
    "xgb_model.fit(X_train, y_train)\n",
    "\n",
    "# Step 3: Make predictions using the trained model on the test data\n",
    "y_pred = xgb_model.predict(X_test)\n",
    "\n",
    "# Step 4: Evaluate the model\n",
    "\n",
    "# Evaluate accuracy\n",
    "accuracy = accuracy_score(y_test, y_pred)\n",
    "print(f\"Accuracy: {accuracy}\")\n",
    "\n",
    "# Generate and display confusion matrix\n",
    "conf_matrix = confusion_matrix(y_test, y_pred)\n",
    "print(f\"Confusion Matrix:\\n{conf_matrix}\")"
   ]
  },
  {
   "cell_type": "markdown",
   "id": "c1bc90a6-1a9b-4a09-9490-98086c377296",
   "metadata": {},
   "source": [
    "# Random Forest - 76.25%"
   ]
  },
  {
   "cell_type": "code",
   "execution_count": 272,
   "id": "0a73d8c2-00ce-4f8d-90c9-0240638349f1",
   "metadata": {},
   "outputs": [
    {
     "name": "stdout",
     "output_type": "stream",
     "text": [
      "Accuracy: 0.7625160462130937\n",
      "Confusion Matrix:\n",
      "[[561  61]\n",
      " [124  33]]\n",
      "Classification Report:\n",
      "              precision    recall  f1-score   support\n",
      "\n",
      "           0       0.82      0.90      0.86       622\n",
      "           1       0.35      0.21      0.26       157\n",
      "\n",
      "    accuracy                           0.76       779\n",
      "   macro avg       0.59      0.56      0.56       779\n",
      "weighted avg       0.72      0.76      0.74       779\n",
      "\n",
      "ROC AUC Score: 0.5560601716263542\n"
     ]
    }
   ],
   "source": [
    "# Code from ChatGPT\n",
    "\n",
    "from sklearn.ensemble import RandomForestClassifier\n",
    "from sklearn.metrics import accuracy_score, confusion_matrix, classification_report, roc_auc_score\n",
    "\n",
    "# Step 1: Initialize the Random Forest model\n",
    "# n_estimators is the number of trees in the forest (can be tuned)\n",
    "rf_model = RandomForestClassifier(n_estimators=100, random_state=42)\n",
    "\n",
    "# Step 2: Train the model on the training data\n",
    "rf_model.fit(X_train, y_train)\n",
    "\n",
    "# Step 3: Make predictions using the trained model on the test data\n",
    "y_pred = rf_model.predict(X_test)\n",
    "\n",
    "# Step 4: Evaluate the model\n",
    "\n",
    "# 4.1. Evaluate accuracy\n",
    "accuracy = accuracy_score(y_test, y_pred)\n",
    "print(f\"Accuracy: {accuracy}\")\n",
    "\n",
    "# 4.2. Confusion matrix\n",
    "conf_matrix = confusion_matrix(y_test, y_pred)\n",
    "print(f\"Confusion Matrix:\\n{conf_matrix}\")\n",
    "\n",
    "# 4.3. Classification report (includes precision, recall, F1-score)\n",
    "class_report = classification_report(y_test, y_pred)\n",
    "print(f\"Classification Report:\\n{class_report}\")\n",
    "\n",
    "# 4.4. ROC AUC Score (useful for evaluating performance on imbalanced data)\n",
    "roc_auc = roc_auc_score(y_test, y_pred)\n",
    "print(f\"ROC AUC Score: {roc_auc}\")"
   ]
  },
  {
   "cell_type": "markdown",
   "id": "3a6465f6-5d4f-43dc-a602-95ee38e94035",
   "metadata": {},
   "source": [
    "# Logistic Regression - 78.95%"
   ]
  },
  {
   "cell_type": "code",
   "execution_count": 26,
   "id": "209bd531-8899-4ea9-b2a9-8b3e43a70e83",
   "metadata": {},
   "outputs": [],
   "source": [
    "scaler = StandardScaler()\n",
    "X_train_scaled = scaler.fit_transform(X_train)\n",
    "X_test_scaled = scaler.transform(X_test)"
   ]
  },
  {
   "cell_type": "code",
   "execution_count": 48,
   "id": "f28eb733-756c-4532-af5c-3527a73ba079",
   "metadata": {},
   "outputs": [
    {
     "name": "stdout",
     "output_type": "stream",
     "text": [
      "Accuracy: 0.7894736842105263\n",
      "Confusion Matrix:\n",
      "[[600  22]\n",
      " [142  15]]\n",
      "Classification Report:\n",
      "              precision    recall  f1-score   support\n",
      "\n",
      "           0       0.81      0.96      0.88       622\n",
      "           1       0.41      0.10      0.15       157\n",
      "\n",
      "    accuracy                           0.79       779\n",
      "   macro avg       0.61      0.53      0.52       779\n",
      "weighted avg       0.73      0.79      0.73       779\n",
      "\n",
      "ROC AUC Score: 0.7124746554160608\n"
     ]
    },
    {
     "name": "stderr",
     "output_type": "stream",
     "text": [
      "C:\\ProgramData\\anaconda3\\Lib\\site-packages\\sklearn\\base.py:493: UserWarning: X does not have valid feature names, but LogisticRegression was fitted with feature names\n",
      "  warnings.warn(\n"
     ]
    }
   ],
   "source": [
    "# Code from ChatGPT\n",
    "\n",
    "# Import necessary libraries\n",
    "from sklearn.linear_model import LogisticRegression\n",
    "from sklearn.metrics import accuracy_score, confusion_matrix, classification_report, roc_auc_score\n",
    "\n",
    "# Step 1: Initialize the Logistic Regression model\n",
    "log_reg_model = LogisticRegression()\n",
    "\n",
    "# Step 2: Train the model on the training data\n",
    "log_reg_model.fit(X_train, y_train)\n",
    "\n",
    "# Step 3: Make predictions using the trained model on the test data\n",
    "y_pred = log_reg_model.predict(X_test)\n",
    "\n",
    "\n",
    "# Step 4: Evaluate the model\n",
    "\n",
    "# 4.1. Evaluate accuracy\n",
    "accuracy = accuracy_score(y_test, y_pred)\n",
    "print(f\"Accuracy: {accuracy}\")\n",
    "\n",
    "# 4.2. Confusion matrix\n",
    "conf_matrix = confusion_matrix(y_test, y_pred)\n",
    "print(f\"Confusion Matrix:\\n{conf_matrix}\")\n",
    "\n",
    "\n",
    "# 4.3. Classification report (includes precision, recall, F1-score)\n",
    "class_report = classification_report(y_test, y_pred)\n",
    "print(f\"Classification Report:\\n{class_report}\")\n",
    "\n",
    "# 4.4. ROC AUC Score (useful if your problem has imbalanced classes)\n",
    "\n",
    "y_pred_proba = log_reg_model.predict_proba(X_test_scaled)[:, 1]  # Probabilities for the positive class\n",
    "roc_auc = roc_auc_score(y_test, y_pred_proba)\n",
    "print(f\"ROC AUC Score: {roc_auc}\")\n"
   ]
  },
  {
   "cell_type": "code",
   "execution_count": 42,
   "id": "7a38ca51-56b8-47af-97e2-b175e2c13214",
   "metadata": {},
   "outputs": [
    {
     "name": "stdout",
     "output_type": "stream",
     "text": [
      "Tuned ROC AUC Score: 0.727\n",
      "Accuracy on Test Data: 0.786\n"
     ]
    }
   ],
   "source": [
    "from sklearn.metrics import accuracy_score, roc_auc_score\n",
    "\n",
    "# Hyperparameter tuning with GridSearchCV\n",
    "param_grid = {'C': [0.01, 0.1, 1, 10, 100]}\n",
    "grid_search = GridSearchCV(\n",
    "    LogisticRegression(penalty='l2', solver='lbfgs', max_iter=1000), \n",
    "    param_grid, \n",
    "    cv=5, \n",
    "    scoring='roc_auc'  # Optimize for ROC AUC during cross-validation\n",
    ")\n",
    "grid_search.fit(X_train_scaled, y_train)\n",
    "\n",
    "# Use the best model\n",
    "best_model = grid_search.best_estimator_\n",
    "\n",
    "# Predict probabilities and labels on the test set\n",
    "y_pred_proba = best_model.predict_proba(X_test_scaled)[:, 1]  # Probabilities for the positive class\n",
    "y_pred = best_model.predict(X_test_scaled)  # Binary predictions\n",
    "\n",
    "# Calculate metrics\n",
    "roc_auc = roc_auc_score(y_test, y_pred_proba)\n",
    "accuracy = accuracy_score(y_test, y_pred)\n",
    "\n",
    "# Output results\n",
    "print(f\"Tuned ROC AUC Score: {roc_auc:.3f}\")\n",
    "print(f\"Accuracy on Test Data: {accuracy:.3f}\")\n"
   ]
  },
  {
   "cell_type": "code",
   "execution_count": 78,
   "id": "39a83247-bcc5-4274-9802-01214086db6b",
   "metadata": {},
   "outputs": [
    {
     "name": "stdout",
     "output_type": "stream",
     "text": [
      "Please enter the crab details below:\n"
     ]
    },
    {
     "name": "stdin",
     "output_type": "stream",
     "text": [
      "Enter the sex of the crab (F/M/I):  F\n",
      "Enter the length of the crab (in inches):  1.5\n",
      "Enter the diameter of the crab (in inches):  1.5\n",
      "Enter the height of the crab (in inches):  1.5\n",
      "Enter the weight of the crab (in Ounces):  1.5\n"
     ]
    },
    {
     "name": "stdout",
     "output_type": "stream",
     "text": [
      "\n",
      "Prediction Results:\n",
      "The crab is READY to eat!\n",
      "\n",
      "Logistic Regression Model Accuracy: 78.95%\n"
     ]
    },
    {
     "name": "stderr",
     "output_type": "stream",
     "text": [
      "C:\\ProgramData\\anaconda3\\Lib\\site-packages\\sklearn\\base.py:493: UserWarning: X does not have valid feature names, but StandardScaler was fitted with feature names\n",
      "  warnings.warn(\n",
      "C:\\ProgramData\\anaconda3\\Lib\\site-packages\\sklearn\\base.py:493: UserWarning: X does not have valid feature names, but LogisticRegression was fitted with feature names\n",
      "  warnings.warn(\n",
      "C:\\ProgramData\\anaconda3\\Lib\\site-packages\\sklearn\\base.py:493: UserWarning: X does not have valid feature names, but LogisticRegression was fitted with feature names\n",
      "  warnings.warn(\n"
     ]
    }
   ],
   "source": [
    "import numpy as np\n",
    "\n",
    "# Example mapping for \"Sex\"\n",
    "sex_mapping = {\"F\": 0, \"M\": 1, \"I\": 2}\n",
    "\n",
    "# Function to get user input and make a prediction\n",
    "def predict_crab_ready_to_eat(model, scaler):\n",
    "    print(\"Please enter the crab details below:\")\n",
    "    \n",
    "    # Get inputs from the user\n",
    "    try:\n",
    "        sex = input(\"Enter the sex of the crab (F/M/I): \").strip().upper()\n",
    "        sex_encoded = sex_mapping[sex]  # Map to numeric value\n",
    "        \n",
    "        length = float(input(\"Enter the length of the crab (in inches): \"))\n",
    "        diameter = float(input(\"Enter the diameter of the crab (in inches): \"))\n",
    "        height = float(input(\"Enter the height of the crab (in inches): \"))\n",
    "        weight = float(input(\"Enter the weight of the crab (in Ounces): \"))\n",
    "    except KeyError:\n",
    "        print(\"Invalid input for sex. Please enter F, M, or I.\")\n",
    "        return\n",
    "    except ValueError:\n",
    "        print(\"Invalid numerical input. Please try again.\")\n",
    "        return\n",
    "    \n",
    "    # Combine inputs into a feature array\n",
    "    features = np.array([[sex_encoded, length, diameter, height, weight]])\n",
    "    \n",
    "    # Scale the features using the same scaler used during training\n",
    "    features_scaled = scaler.transform(features)\n",
    "    \n",
    "    # Make prediction using the trained model\n",
    "    probability = model.predict_proba(features_scaled)[0, 1]  # Probability of class 1 (ready to eat)\n",
    "    prediction = model.predict(features_scaled)[0]  # Binary prediction\n",
    "    \n",
    "    # Print the results\n",
    "    print(\"\\nPrediction Results:\")\n",
    "    if prediction == 1:\n",
    "        print(f\"The crab is READY to eat!\")\n",
    "    else:\n",
    "        print(f\"The crab is NOT ready to eat.\")\n",
    "\n",
    "    print(\"Logistic Regression Model Accuracy: 78.95%\")\n",
    "\n",
    "# Example usage\n",
    "# Replace 'best_model' and 'scaler' with your actual trained model and scaler\n",
    "predict_crab_ready_to_eat(log_reg_model, scaler)\n"
   ]
  }
 ],
 "metadata": {
  "kernelspec": {
   "display_name": "Python 3 (ipykernel)",
   "language": "python",
   "name": "python3"
  },
  "language_info": {
   "codemirror_mode": {
    "name": "ipython",
    "version": 3
   },
   "file_extension": ".py",
   "mimetype": "text/x-python",
   "name": "python",
   "nbconvert_exporter": "python",
   "pygments_lexer": "ipython3",
   "version": "3.12.4"
  }
 },
 "nbformat": 4,
 "nbformat_minor": 5
}
